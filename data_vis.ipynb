{
 "cells": [
  {
   "cell_type": "code",
   "execution_count": 1,
   "metadata": {},
   "outputs": [],
   "source": [
    "import csv\n",
    "import operator\n",
    "import pprint\n",
    "import matplotlib.pyplot as plt\n",
    "import numpy as np"
   ]
  },
  {
   "cell_type": "markdown",
   "metadata": {},
   "source": [
    "## Importing and setting up our data\n",
    "\n",
    "We start by brining in the CSV data into our Python program\n",
    "We then parse the data using the CSV package\n",
    "Lastly we close the csv file after we have read the information"
   ]
  },
  {
   "cell_type": "code",
   "execution_count": 2,
   "metadata": {},
   "outputs": [],
   "source": [
    "with open(\"data/bestsellers_with_categories.csv\", \"r\",encoding=\"UTF-8\") as datafile:\n",
    "    bestseller_data = csv.DictReader(datafile)\n",
    "    \n",
    "    data_list = list(bestseller_data)\n",
    "#     data = datafile.read().splitlines()\n",
    "# pprint.pprint(data[1])\n",
    "    "
   ]
  },
  {
   "cell_type": "code",
   "execution_count": 3,
   "metadata": {},
   "outputs": [
    {
     "data": {
      "text/plain": [
       "{'Name': '10-Day Green Smoothie Cleanse',\n",
       " 'Author': 'JJ Smith',\n",
       " 'User Rating': '4.7',\n",
       " 'Reviews': '17350',\n",
       " 'Price': '8',\n",
       " 'Year': '2016',\n",
       " 'Genre': 'Non Fiction'}"
      ]
     },
     "execution_count": 3,
     "metadata": {},
     "output_type": "execute_result"
    }
   ],
   "source": [
    "data_list[0]"
   ]
  },
  {
   "cell_type": "markdown",
   "metadata": {},
   "source": [
    "## Format the data before we generate a visualization\n",
    "\n",
    "Categorize by bestseller year, sort each year into fiction and nonfiction and then count."
   ]
  },
  {
   "cell_type": "code",
   "execution_count": 4,
   "metadata": {},
   "outputs": [
    {
     "name": "stdout",
     "output_type": "stream",
     "text": [
      "{'2009': [24, 26],\n",
      " '2010': [20, 30],\n",
      " '2011': [21, 29],\n",
      " '2012': [21, 29],\n",
      " '2013': [24, 26],\n",
      " '2014': [29, 21],\n",
      " '2015': [17, 33],\n",
      " '2016': [19, 31],\n",
      " '2017': [24, 26],\n",
      " '2018': [21, 29],\n",
      " '2019': [20, 30]}\n"
     ]
    }
   ],
   "source": [
    "timeline = {}\n",
    "year_1 = []\n",
    "year_one = []\n",
    "\n",
    "year_2 = []\n",
    "year_two = []\n",
    "\n",
    "year_3 = []\n",
    "year_three = []\n",
    "\n",
    "year_4 = []\n",
    "year_four = []\n",
    "\n",
    "\n",
    "year_5 = []\n",
    "year_five = []\n",
    "\n",
    "year_6 = []\n",
    "year_six = []\n",
    "\n",
    "year_7 = []\n",
    "year_seven = []\n",
    "\n",
    "year_8 = []\n",
    "year_eight = []\n",
    "year_9 = []\n",
    "year_nine = []\n",
    "\n",
    "year_10 = []\n",
    "year_ten = []\n",
    "\n",
    "year_11  = []\n",
    "year_eleven = []\n",
    "\n",
    "\n",
    "\n",
    "for item in data_list:\n",
    "    \n",
    "     if item[\"Year\"] == \"2009\":\n",
    "            if item[\"Genre\"] == \"Fiction\":\n",
    "                    year_1.append(item)\n",
    "            else:\n",
    "                year_one.append(item)\n",
    "                \n",
    "     elif item[\"Year\"] == \"2010\":\n",
    "            if item[\"Genre\"] == \"Fiction\":\n",
    "                    year_2.append(item)\n",
    "            else:\n",
    "                year_two.append(item)\n",
    "                \n",
    "                \n",
    "     elif item[\"Year\"] == \"2011\":\n",
    "            if item[\"Genre\"] == \"Fiction\":\n",
    "                    year_3.append(item)\n",
    "            else:\n",
    "                year_three.append(item)\n",
    "            \n",
    "     elif item[\"Year\"] == \"2012\":\n",
    "            if item[\"Genre\"] == \"Fiction\":\n",
    "                    year_4.append(item)\n",
    "            else:\n",
    "                year_four.append(item)\n",
    "            \n",
    "     elif item[\"Year\"] == \"2013\":\n",
    "                if item[\"Genre\"] == \"Fiction\":\n",
    "                    year_5.append(item)\n",
    "                else:\n",
    "                    year_five.append(item)\n",
    "    \n",
    "     elif item[\"Year\"] == \"2014\":\n",
    "            if item[\"Genre\"] == \"Fiction\":\n",
    "                    year_6.append(item)\n",
    "            else:\n",
    "                year_six.append(item)\n",
    "                \n",
    "     elif item[\"Year\"] == \"2015\":\n",
    "            if item[\"Genre\"] == \"Fiction\":\n",
    "                    year_7.append(item)\n",
    "            else:\n",
    "                year_seven.append(item)\n",
    "        \n",
    "     elif item[\"Year\"] == \"2016\":\n",
    "            if item[\"Genre\"] == \"Fiction\":\n",
    "                    year_8.append(item)\n",
    "            else:\n",
    "                year_eight.append(item)\n",
    "    \n",
    "     elif item[\"Year\"] == \"2017\":\n",
    "            if item[\"Genre\"] == \"Fiction\":\n",
    "                    year_9.append(item)\n",
    "            else:\n",
    "                year_nine.append(item)\n",
    "        \n",
    "     elif item[\"Year\"] == \"2018\":\n",
    "            if item[\"Genre\"] == \"Fiction\":\n",
    "                    year_10.append(item)\n",
    "            else:\n",
    "                year_ten.append(item)\n",
    "                \n",
    "     elif item[\"Year\"] == \"2019\":\n",
    "            if item[\"Genre\"] == \"Fiction\":\n",
    "                    year_11.append(item)\n",
    "            else:\n",
    "                year_eleven.append(item)\n",
    "                             \n",
    "    \n",
    "timeline[\"2009\"] = [len(year_1), len(year_one)]\n",
    "timeline[\"2010\"] = [len(year_2), len(year_two)]\n",
    "timeline[\"2011\"] = [len(year_3), len(year_three)]\n",
    "timeline[\"2012\"] = [len(year_4), len(year_four)]\n",
    "timeline[\"2013\"] = [len(year_5), len(year_five)]\n",
    "timeline[\"2014\"] = [len(year_6), len(year_six)]\n",
    "timeline[\"2015\"] = [len(year_7), len(year_seven)]\n",
    "timeline[\"2016\"] = [len(year_8), len(year_eight)]\n",
    "timeline[\"2017\"] = [len(year_9), len(year_nine)]\n",
    "timeline[\"2018\"] = [len(year_10), len(year_ten)]\n",
    "timeline[\"2019\"] = [len(year_11), len(year_eleven)]\n",
    "pprint.pprint(timeline)\n"
   ]
  },
  {
   "cell_type": "markdown",
   "metadata": {},
   "source": [
    "## Create the Visualization\n",
    "\n",
    "Now that the data is parsed, we will matplotlib to create a horizontal bar graph."
   ]
  },
  {
   "cell_type": "code",
   "execution_count": 5,
   "metadata": {},
   "outputs": [
    {
     "data": {
      "image/png": "[encoded data removed]",
      "text/plain": [
       "<Figure size 1440x720 with 1 Axes>"
      ]
     },
     "metadata": {
      "needs_background": "light"
     },
     "output_type": "display_data"
    }
   ],
   "source": [
    "\n",
    "category_names = ['Fiction', 'Nonfiction']\n",
    "results = timeline\n",
    "\n",
    "\n",
    "\n",
    "def survey(results, category_names):\n",
    "    \"\"\"\n",
    "    Parameters\n",
    "    ----------\n",
    "    results : dict\n",
    "        A mapping from question labels to a list of answers per category.\n",
    "        It is assumed all lists contain the same number of entries and that\n",
    "        it matches the length of *category_names*.\n",
    "    category_names : list of str\n",
    "        The category labels.\n",
    "    \"\"\"\n",
    "    labels = list(results.keys())\n",
    "    data = np.array(list(results.values()))\n",
    "    data_cum = data.cumsum(axis=1)\n",
    "    category_colors = plt.get_cmap(\"Blues\")(\n",
    "        np.linspace(0.15, 0.85, data.shape[1]))\n",
    "\n",
    "    fig, ax = plt.subplots(figsize=(20, 10))\n",
    "    ax.set_facecolor('black')\n",
    "    ax.invert_yaxis()\n",
    "    ax.xaxis.set_visible(False)\n",
    "    ax.set_xlim(0, np.sum(data, axis=1).max())\n",
    "\n",
    "    for i, (colname, color) in enumerate(zip(category_names, category_colors)):\n",
    "        widths = data[:, i]\n",
    "        starts = data_cum[:, i] - widths\n",
    "        ax.barh(labels, widths, left=starts, height=.85,\n",
    "                label=colname, color=color)\n",
    "        xcenters = starts + widths / 2\n",
    "\n",
    "        r, g, b, _ = color\n",
    "        text_color = 'white' if r * g * b < 0.5 else 'blue'\n",
    "        for y, (x, c) in enumerate(zip(xcenters, widths)):\n",
    "            ax.text(x, y, str(int(c)), ha='center', va='center',\n",
    "                    color=text_color)\n",
    "    ax.legend(ncol=len(category_names), bbox_to_anchor=(0, 1),\n",
    "              loc='lower left', fontsize='x-large')\n",
    "\n",
    "    return fig, ax\n",
    "\n",
    "\n",
    "# \n",
    "survey(results, category_names)\n",
    "plt.show()"
   ]
  },
  {
   "cell_type": "markdown",
   "metadata": {},
   "source": [
    "## Format the data before we generate a visualization\n",
    "\n",
    "Categorize by author and dipsplay how many times they were best seller."
   ]
  },
  {
   "cell_type": "code",
   "execution_count": 6,
   "metadata": {},
   "outputs": [
    {
     "name": "stdout",
     "output_type": "stream",
     "text": [
      "['JJ Smith', 'Stephen King', 'Jordan B. Peterson', 'George Orwell', 'National Geographic Kids', 'George R. R. Martin', 'George R. R. Martin', 'Amor Towles', 'James Comey', 'Fredrik Backman', 'Fredrik Backman', 'Larry Schweikart', 'Jaycee Dugard', \"Madeleine L'Engle\", 'Steve Harvey', 'Adult Coloring Book Designs', 'Blue Star Coloring', 'Blue Star Coloring', 'Coloring Books for Adults', 'Ron Chernow', 'Anthony Doerr', 'Anthony Doerr', 'Veronica Roth', 'Chris Kyle', 'Khaled Hosseini', 'Glenn Beck', 'Neil deGrasse Tyson', 'Mark Twain', 'DK', 'Angie Grace', 'Ina Garten', 'Ina Garten', 'Michelle Obama', 'Michelle Obama', 'Atul Gawande', 'Ta-Nehisi Coates', 'Ta-Nehisi Coates', 'Bruce Springsteen', 'Stephenie Meyer', 'Glenn Beck', 'Bill Martin Jr.', 'Bill Martin Jr.', 'Jeff Kinney', \"Sasha O'Hara\", 'David Goggins', 'Thomas Piketty', 'Suzanne Collins', 'Suzanne Collins', 'Suzanne Collins', 'Chrissy Teigen', 'Francis Chan', 'Francis Chan', 'Francis Chan', 'Kevin Kwan', 'Marjorie Sarnat', 'Marjorie Sarnat', 'Abraham Verghese', 'Abraham Verghese', 'Brené Brown', 'Malcolm Gladwell', 'Charlaine Harris', 'Charlaine Harris', 'Charlaine Harris', 'Rod Campbell', 'Rod Campbell', 'Rod Campbell', 'Rod Campbell', 'George W. Bush', 'Tony Hsieh', 'American Psychiatric Association', 'American Psychiatric Association', 'Jeff Kinney', 'Jeff Kinney', 'Jeff Kinney', 'M Prefontaine', 'Veronica Roth', 'Veronica Roth', 'Veronica Roth', 'Zhi Gang Sha', 'Stephen King', 'Jeff Kinney', 'Dav Pilkey', 'Dav Pilkey', 'Dav Pilkey', 'Dav Pilkey', 'Dav Pilkey', 'Dav Pilkey', 'Dav Pilkey', 'Jeff Kinney', 'Marty Noble', 'Daniel H. Pink', 'David Zinczenko', 'David Zinczenko', 'Joel Fuhrman MD', 'Joel Fuhrman MD', 'Stephenie Meyer', 'Stephenie Meyer', 'Tara Westover', 'Tara Westover', 'Johanna Basford', 'Ray Bradbury', 'Ray Bradbury', 'J.K. Rowling', 'Bob Woodward', 'E L James', 'E L James', 'E L James', 'E L James', 'E L James', 'Michael Wolff', 'Roger Priddy', 'Roger Priddy', 'Roger Priddy', 'Roger Priddy', 'Roger Priddy', 'Michael Pollan', 'RH Disney', 'John Heilemann', 'George R.R. Martin', 'George R.R. Martin', 'George R.R. Martin', 'Peter A. Lillback', 'Brian Kilmeade', 'Giles Andreae', 'Giles Andreae', 'Giles Andreae', 'Giles Andreae', 'Giles Andreae', 'Rachel Hollis', 'Rachel Hollis', 'Rachel Hollis', 'Glenn Beck', 'Harper Lee', 'Adam Mansbach', 'Sarah Palin', 'Gillian Flynn', 'Gillian Flynn', 'Gillian Flynn', 'Pretty Simple Press', 'Jim Collins', 'Jim Collins', 'Jim Collins', 'Jim Collins', 'Margaret Wise Brown', 'Margaret Wise Brown', 'Margaret Wise Brown', 'Sherri Duskey Rinker', 'Sherri Duskey Rinker', 'David Perlmutter MD', 'E L James', 'Raina Telgemeier', 'Lin-Manuel Miranda', 'Phil Robertson', 'J.K. Rowling', 'J.K. Rowling', 'J. K. Rowling', 'J.K. Rowling', 'J.K. Rowling', 'Scholastic', 'J. K. Rowling', 'Mitch Albom', 'Todd Burpo', 'Todd Burpo', 'J. D. Vance', 'J. D. Vance', 'Joanna Gaines', 'Dale Carnegie', 'Dale Carnegie', 'Dale Carnegie', 'Dale Carnegie', 'Dale Carnegie', 'Howard Stern', 'Brandon Stanton', 'Brandon Stanton', 'Brandon Stanton', 'Allie Brosh', 'Hopscotch Girls', 'James Patterson', 'Ann Whitford Paul', 'Ann Whitford Paul', 'Gayle Forman', 'Eric Larson', 'Dan Brown', 'Christopher Paolini', 'Jennifer Smith', 'Jennifer Smith', 'Lysa TerKeurst', 'Sarah Young', 'Sarah Young', 'Sarah Young', 'Sarah Young', 'Sarah Young', 'Sarah Young', 'RH Disney', 'Stephen King', 'David Grann', \"Bill O'Reilly\", \"Bill O'Reilly\", \"Bill O'Reilly\", \"Bill O'Reilly\", \"Bill O'Reilly\", \"Bill O'Reilly\", \"Bill O'Reilly\", 'Anthony Bourdain', 'Rob Elliott', 'Rob Elliott', 'Rob Elliott', 'Jill Twiss', 'Rob Elliott', 'Rob Elliott', 'Rob Elliott', 'Rob Elliott', 'Rob Elliott', 'Sheryl Sandberg', 'Walter Isaacson', 'Paper Peony Press', 'Mark R. Levin', 'Keith Richards', 'Chris Cleave', 'Alice Schertle', 'Celeste Ng', 'John Green', 'Rob Bell', 'Robert Munsch', 'Robert Munsch', 'Joanna Gaines', 'Ina Garten', 'Admiral William H. McRaven', 'Julia Child', 'Rupi Kaur', 'Rupi Kaur', 'Rupi Kaur', 'Adam Gasiewski', 'Carol S. Dweck', 'Carol S. Dweck', 'Carol S. Dweck', 'Suzanne Collins', 'Suzanne Collins', 'Suzanne Collins', 'Crispin Boyer', 'Amy Shields', 'Stephenie Meyer', 'Elie Wiesel', 'Mark Owen', 'Pete Souza', 'Dr. Seuss', 'Dr. Seuss', 'Dr. Seuss', 'Dr. Seuss', 'Dr. Seuss', 'Dr. Seuss', 'Dr. Seuss', 'Dr. Seuss', 'Jeff Kinney', 'Elizabeth Strout', 'Ann Voskamp', 'Ann Voskamp', 'Sheryl Sandberg', 'Dan Brown', 'Christina Baker Kline', 'Malcolm Gladwell', 'Malcolm Gladwell', 'Naomi Kleinberg', 'Naomi Kleinberg', 'Rick Riordan', 'Wizards RPG Team', 'Wizards RPG Team', 'Wizards RPG Team', 'Scholastic', 'Eben Alexander', 'Eben Alexander', 'American Psychological Association', 'American Psychological Association', 'American Psychological Association', 'American Psychological Association', 'American Psychological Association', 'American Psychological Association', 'American Psychological Association', 'American Psychological Association', 'American Psychological Association', 'American Psychological Association', 'Golden Books', 'Susan Cain', 'Susan Cain', 'David Platt', 'David Platt', 'Ernest Cline', 'Ernest Cline', 'Rush Limbaugh', 'Rush Limbaugh', 'Samin Nosrat', 'Samin Nosrat', 'Tatiana de Rosnay', 'School Zone', 'School Zone', 'Johanna Basford', 'Justin Halpern', 'Tucker Carlson', 'Ian K. Smith M.D.', 'Charlaine Harris', 'Zhi Gang Sha', 'Walter Isaacson', 'Walter Isaacson', 'Nathan W. Pyle', 'Gallup', 'Gallup', 'Gallup', 'Gallup', 'Gallup', 'Gallup', 'Gallup', 'Gallup', 'Gallup', 'Steven D. Levitt', 'Chip Heath', 'John Grisham', 'Doug Lemov', 'Doug Lemov', 'Mike Moreno', 'Timothy Ferriss', 'Gary Chapman', 'Gary Chapman', 'Gary Chapman', 'Gary Chapman', 'Gary Chapman', 'Gary Chapman', 'Gary Chapman', 'Gary Chapman', 'Gary Chapman', 'Gary Chapman', 'W. Cleon Skousen', 'Stephen R. Covey', 'Stephen R. Covey', 'Stephen R. Covey', 'Stephen R. Covey', 'Stephen R. Covey', 'Stephen R. Covey', 'Stephen R. Covey', 'Paulo Coelho', 'Edward Klein', 'Garth Stein', 'Garth Stein', 'Michael Lewis', 'Rick Riordan', 'Mark Hyman M.D.', 'Bessel van der Kolk M.D.', 'Bill Simmons', 'Markus Zusak', 'Markus Zusak', 'B. J. Novak', 'B. J. Novak', 'Daniel James Brown', 'Daniel James Brown', 'J.K. Rowling', 'Thomas Campbell', 'Amy Ramos', 'Amy Ramos', 'John Grisham', 'Delegates of the Constitutional\\x85', 'Jon Stewart', 'Drew Daywalt', 'Drew Daywalt', 'Drew Daywalt', 'Pierre Dukan', 'Muriel Barbery', 'John Green', 'John Green', 'John Green', 'John Green', 'Patrick Lencioni', 'Patrick Lencioni', 'Patrick Lencioni', 'Patrick Lencioni', 'Patrick Lencioni', 'Gary Chapman', 'Don Miguel Ruiz', 'Don Miguel Ruiz', 'Don Miguel Ruiz', 'Don Miguel Ruiz', 'Don Miguel Ruiz', 'Don Miguel Ruiz', 'Jeff Kinney', 'Paula Hawkins', 'Paula Hawkins', 'Stieg Larsson', 'Stieg Larsson', 'Stieg Larsson', 'Stieg Larsson', 'Stieg Larsson', 'Stieg Larsson', 'Sandra Boynton', 'Sandra Boynton', 'Donna Tartt', 'Donna Tartt', 'F. Scott Fitzgerald', 'F. Scott Fitzgerald', 'F. Scott Fitzgerald', 'John Grisham', 'Mary Ann Shaffer', 'Margaret Atwood', 'Jonathan Cahn', 'Angie Thomas', 'Kathryn Stockett', 'Kathryn Stockett', 'Kathryn Stockett', 'Kathryn Stockett', 'Rick Riordan', 'Suzanne Collins', 'Suzanne Collins', 'Suzanne Collins', 'Suzanne Collins', 'Suzanne Collins', 'Rebecca Skloot', 'Rebecca Skloot', 'Rebecca Skloot', 'Laurel Randolph', 'Laurel Randolph', 'Randy Pausch', 'Rick Riordan', 'Rick Riordan', 'Patrick Thorpe', 'Daniel Lipkowitz', 'Daniel Lipkowitz', 'Marie Kondō', 'Marie Kondō', 'Marie Kondō', 'Marie Kondō', 'John Grisham', 'Rick Riordan', 'Dan Brown', 'Stephen Kendrick', 'Chip Gaines', 'Rick Riordan', 'Andy Weir', 'James Dashner', 'Jeff Kinney', 'The Washington Post', 'Kristin Hannah', 'Kristin Hannah', 'The College Board', 'The College Board', 'The College Board', 'The College Board', 'The College Board', 'The College Board', 'Paula McLain', 'Ree Drummond', 'Ree Drummond', 'Ree Drummond', 'Dr. Steven R Gundry MD', 'Dr. Steven R Gundry MD', 'Deborah Diesen', 'Deborah Diesen', 'Charles Duhigg', 'James Patterson', 'John Grisham', 'Rick Riordan', 'F. A. Hayek', 'Rick Riordan', 'William P. Young', 'William P. Young', 'Stephenie Meyer', 'Alex Michaelides', 'Rick Riordan', 'Mark Manson', 'Mark Manson', 'Mark Manson', 'Rupi Kaur', 'Jeff Kinney', 'Rick Riordan', 'Audrey Niffenegger', 'Malcolm Gladwell', 'Dave Ramsey', 'Stephenie Meyer', 'Jeff Kinney', 'Dinah Bucholz', 'Eric Carle', 'Eric Carle', 'Eric Carle', 'Eric Carle', 'Eric Carle', 'Eric Carle', 'Eric Carle', 'Melissa Hartwig Urban', 'Melissa Hartwig Urban', 'Melissa Hartwig Urban', 'Emily Winfield Martin', 'Emily Winfield Martin', 'Emily Winfield Martin', 'Emily Winfield Martin', 'Craig Smith', 'Craig Smith', 'David McCullough', 'Charles Krauthammer', 'Daniel Kahneman', 'Daniel Kahneman', 'Jay Asher', 'Jon Meacham', 'Greg Mortenson', 'Greg Mortenson', 'Thug Kitchen', 'Thug Kitchen', 'Thug Kitchen', 'Thug Kitchen', 'Tina Fey', 'Harper Lee', 'Harper Lee', 'Harper Lee', 'Harper Lee', 'Harper Lee', 'Timothy Ferriss', 'Robert Jordan', 'Edward M. Kennedy', 'Stephenie Meyer', 'DK', 'Laura Hillenbrand', 'Laura Hillenbrand', 'Laura Hillenbrand', 'Laura Hillenbrand', 'Laura Hillenbrand', 'Stephen King', 'Mark R. Levin', 'Silly Bear', 'Lysa TerKeurst', 'Alan Moore', 'Sara Gruen', 'Hillary Rodham Clinton', 'Randall Munroe', 'Dr. Seuss', 'Adir Levy', 'Heidi Murkoff', 'William Davis', 'William Davis', 'Paul Kalanithi', 'Delia Owens', 'Maurice Sendak', 'The Staff of The Late Show with\\x85', 'Cheryl Strayed', 'Ken Follett', 'Geneen Roth', 'R. J. Palacio', 'R. J. Palacio', 'R. J. Palacio', 'R. J. Palacio', 'R. J. Palacio', 'Jeff Kinney', 'Jen Sincero', 'Jen Sincero', 'Jen Sincero', 'Jen Sincero']\n"
     ]
    }
   ],
   "source": [
    "temp = []\n",
    "for item in data_list:\n",
    "    temp.append(item[\"Author\"])\n",
    "\n",
    "print(temp)\n"
   ]
  },
  {
   "cell_type": "code",
   "execution_count": null,
   "metadata": {},
   "outputs": [],
   "source": []
  }
 ],
 "metadata": {
  "kernelspec": {
   "display_name": "data_vis",
   "language": "python",
   "name": "data_vis"
  },
  "language_info": {
   "codemirror_mode": {
    "name": "ipython",
    "version": 3
   },
   "file_extension": ".py",
   "mimetype": "text/x-python",
   "name": "python",
   "nbconvert_exporter": "python",
   "pygments_lexer": "ipython3",
   "version": "3.9.1"
  }
 },
 "nbformat": 4,
 "nbformat_minor": 4
}
